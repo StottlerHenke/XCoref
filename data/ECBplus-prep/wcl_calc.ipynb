{
  "cells": [
    {
      "cell_type": "code",
      "execution_count": 1,
      "metadata": {
        "collapsed": true,
        "pycharm": {
          "is_executing": false
        }
      },
      "outputs": [],
      "source": "import pandas as pd\nimport os \n"
    },
    {
      "cell_type": "code",
      "execution_count": 4,
      "outputs": [],
      "source": "\ninit_df \u003d pd.read_csv(\"C:\\\\Users\\\\annaz\\\\PycharmProjects\\\\newsalyze-backend_2\\\\data\\\\ECBplus-prep\\\\test_parsing\\\\2020-05-17_14-59_all.csv\", index_col\u003d[0])\n",
      "metadata": {
        "pycharm": {
          "metadata": false,
          "name": "#%% \n",
          "is_executing": false
        }
      }
    },
    {
      "cell_type": "code",
      "execution_count": 5,
      "outputs": [],
      "source": "DATASET \u003d \"dataset\"\nDOC_ID \u003d \"doc_id\"\nTEXT \u003d \"tokens_str\"\nHEAD \u003d \"head\"\ninit_df[DATASET] \u003d [\"ecbplus\" if \"ecbplus\" in v else \"ecb\" for v in list(init_df[DOC_ID].values) ]\ninit_df[HEAD] \u003d [v.split(\" \")[-1] for v in list(init_df[TEXT].values)]",
      "metadata": {
        "pycharm": {
          "metadata": false,
          "name": "#%% \n",
          "is_executing": false
        }
      }
    },
    {
      "cell_type": "code",
      "execution_count": 7,
      "outputs": [],
      "source": "\necbplus_df \u003d init_df[init_df[DATASET] \u003d\u003d \"ecbplus\"]\ntypes \u003d [\"HUMAN_PART_PER\", \"HUMAN_PART_GENERIC\", \"HUMAN_PART_GPE\", \"LOC_GEO\", \"HUMAN_PART_ORG\", \"ACTION_OCCURRENCE\", \"NON_HUMAN_PART\", \n         \"HUMAN_PART_VEH\", \"LOC_FAC\"]\nsel_ecbplus_types_df \u003d ecbplus_df[ecbplus_df[\"full_type\"].isin(types)]",
      "metadata": {
        "pycharm": {
          "metadata": false,
          "name": "#%% \n",
          "is_executing": false
        }
      }
    },
    {
      "cell_type": "code",
      "execution_count": 11,
      "outputs": [],
      "source": "\n# len(sel_ecbplus_types_df)\nsel_ecbplus_types_df.to_csv(\"C:\\\\Users\\\\annaz\\\\PycharmProjects\\\\newsalyze-backend_2\\\\data\\\\ECBplus-prep\\\\test_parsing\\\\sel_types.csv\")",
      "metadata": {
        "pycharm": {
          "metadata": false,
          "name": "#%%\n",
          "is_executing": false
        }
      }
    },
    {
      "cell_type": "code",
      "execution_count": 12,
      "outputs": [],
      "source": "\nupdated_heads_df \u003d pd.read_csv(\"C:\\\\Users\\\\annaz\\\\PycharmProjects\\\\newsalyze-backend_2\\\\data\\\\ECBplus-prep\\\\test_parsing\\\\sel_types_new.csv\", index_col\u003d[0])\n",
      "metadata": {
        "pycharm": {
          "metadata": false,
          "name": "#%%\n",
          "is_executing": false
        }
      }
    },
    {
      "cell_type": "code",
      "execution_count": 17,
      "outputs": [],
      "source": "\nimport math\n\nWCL, NUMBER, NUMBER_ENT, CONCEPT_TYPE_final \u003d \"wcl\", \"mentions_num\", \"entities_num\",\"concept_type\"\nLABEL \u003d \"coref_chain\"\nCONCEPT_TYPE \u003d \"full_type\"\nresults_df \u003d pd.DataFrame(columns\u003d[DATASET, CONCEPT_TYPE_final, WCL, NUMBER_ENT, NUMBER])\nlocal_res_df \u003d pd.DataFrame()\nfor label in set(updated_heads_df[LABEL].values):\n    label_df \u003d updated_heads_df[updated_heads_df[LABEL] \u003d\u003d label]\n    concept \u003d list(set(label_df[CONCEPT_TYPE].values))[0]\n    wcl_score \u003d 0\n    for head in set(label_df[HEAD].values):\n        head_df \u003d label_df[label_df[HEAD] \u003d\u003d head]\n        wcl_score +\u003d len(set(head_df[TEXT].values))/math.log(len(head_df) + 1)\n    local_res_df \u003d local_res_df.append(pd.DataFrame({\n        CONCEPT_TYPE_final: concept,\n        WCL: wcl_score,\n        NUMBER: len(label_df)\n    }, index\u003d[label]))\n\nsum_df \u003d local_res_df.groupby(by\u003d[CONCEPT_TYPE_final])[NUMBER].sum().reset_index()\navg_df \u003d local_res_df.groupby(by\u003d[CONCEPT_TYPE_final])[WCL].mean().reset_index()\ncount_df \u003d local_res_df.groupby(by\u003d[CONCEPT_TYPE_final])[WCL].count().reset_index()\nresults_df[DATASET] \u003d [\"ECB\"] * len(sum_df)\nresults_df[CONCEPT_TYPE_final] \u003d sum_df[CONCEPT_TYPE_final].values\nresults_df[WCL] \u003d avg_df[WCL].values\nresults_df[NUMBER] \u003d sum_df[NUMBER].values\nresults_df[NUMBER_ENT] \u003d count_df[WCL].values\n",
      "metadata": {
        "pycharm": {
          "metadata": false,
          "name": "#%%\n",
          "is_executing": false
        }
      }
    },
    {
      "cell_type": "code",
      "execution_count": 16,
      "outputs": [],
      "source": "\nresults_df.to_csv(\"C:\\\\Users\\\\annaz\\\\PycharmProjects\\\\newsalyze-backend_2\\\\data\\\\ECBplus-prep\\\\test_parsing\\\\wcl_ecb.csv\")",
      "metadata": {
        "pycharm": {
          "metadata": false,
          "name": "#%%\n",
          "is_executing": false
        }
      }
    }
  ],
  "metadata": {
    "language_info": {
      "codemirror_mode": {
        "name": "ipython",
        "version": 2
      },
      "file_extension": ".py",
      "mimetype": "text/x-python",
      "name": "python",
      "nbconvert_exporter": "python",
      "pygments_lexer": "ipython2",
      "version": "2.7.6"
    },
    "kernelspec": {
      "name": "python3",
      "language": "python",
      "display_name": "Python 3"
    }
  },
  "nbformat": 4,
  "nbformat_minor": 0
}